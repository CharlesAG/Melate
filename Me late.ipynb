{
 "cells": [
  {
   "cell_type": "code",
   "execution_count": 1,
   "metadata": {},
   "outputs": [],
   "source": [
    "import pandas as pd\n",
    "import matplotlib.pyplot as plt\n"
   ]
  },
  {
   "cell_type": "code",
   "execution_count": 5,
   "metadata": {},
   "outputs": [
    {
     "data": {
      "text/html": [
       "<div>\n",
       "<style scoped>\n",
       "    .dataframe tbody tr th:only-of-type {\n",
       "        vertical-align: middle;\n",
       "    }\n",
       "\n",
       "    .dataframe tbody tr th {\n",
       "        vertical-align: top;\n",
       "    }\n",
       "\n",
       "    .dataframe thead th {\n",
       "        text-align: right;\n",
       "    }\n",
       "</style>\n",
       "<table border=\"1\" class=\"dataframe\">\n",
       "  <thead>\n",
       "    <tr style=\"text-align: right;\">\n",
       "      <th></th>\n",
       "      <th>NPRODUCTO</th>\n",
       "      <th>CONCURSO</th>\n",
       "      <th>R1</th>\n",
       "      <th>R2</th>\n",
       "      <th>R3</th>\n",
       "      <th>R4</th>\n",
       "      <th>R5</th>\n",
       "      <th>R6</th>\n",
       "      <th>R7</th>\n",
       "      <th>BOLSA</th>\n",
       "      <th>FECHA</th>\n",
       "    </tr>\n",
       "  </thead>\n",
       "  <tbody>\n",
       "    <tr>\n",
       "      <th>0</th>\n",
       "      <td>40</td>\n",
       "      <td>3468</td>\n",
       "      <td>26</td>\n",
       "      <td>32</td>\n",
       "      <td>38</td>\n",
       "      <td>41</td>\n",
       "      <td>55</td>\n",
       "      <td>56</td>\n",
       "      <td>42</td>\n",
       "      <td>79000000</td>\n",
       "      <td>20/06/2021</td>\n",
       "    </tr>\n",
       "    <tr>\n",
       "      <th>1</th>\n",
       "      <td>40</td>\n",
       "      <td>3467</td>\n",
       "      <td>3</td>\n",
       "      <td>7</td>\n",
       "      <td>14</td>\n",
       "      <td>18</td>\n",
       "      <td>33</td>\n",
       "      <td>44</td>\n",
       "      <td>29</td>\n",
       "      <td>76500000</td>\n",
       "      <td>16/06/2021</td>\n",
       "    </tr>\n",
       "    <tr>\n",
       "      <th>2</th>\n",
       "      <td>40</td>\n",
       "      <td>3466</td>\n",
       "      <td>10</td>\n",
       "      <td>20</td>\n",
       "      <td>23</td>\n",
       "      <td>24</td>\n",
       "      <td>40</td>\n",
       "      <td>49</td>\n",
       "      <td>44</td>\n",
       "      <td>72600000</td>\n",
       "      <td>13/06/2021</td>\n",
       "    </tr>\n",
       "    <tr>\n",
       "      <th>3</th>\n",
       "      <td>40</td>\n",
       "      <td>3465</td>\n",
       "      <td>3</td>\n",
       "      <td>22</td>\n",
       "      <td>24</td>\n",
       "      <td>37</td>\n",
       "      <td>39</td>\n",
       "      <td>42</td>\n",
       "      <td>50</td>\n",
       "      <td>69800000</td>\n",
       "      <td>09/06/2021</td>\n",
       "    </tr>\n",
       "    <tr>\n",
       "      <th>4</th>\n",
       "      <td>40</td>\n",
       "      <td>3464</td>\n",
       "      <td>1</td>\n",
       "      <td>6</td>\n",
       "      <td>12</td>\n",
       "      <td>18</td>\n",
       "      <td>22</td>\n",
       "      <td>33</td>\n",
       "      <td>19</td>\n",
       "      <td>67100000</td>\n",
       "      <td>06/06/2021</td>\n",
       "    </tr>\n",
       "  </tbody>\n",
       "</table>\n",
       "</div>"
      ],
      "text/plain": [
       "   NPRODUCTO  CONCURSO  R1  R2  R3  R4  R5  R6  R7     BOLSA       FECHA\n",
       "0         40      3468  26  32  38  41  55  56  42  79000000  20/06/2021\n",
       "1         40      3467   3   7  14  18  33  44  29  76500000  16/06/2021\n",
       "2         40      3466  10  20  23  24  40  49  44  72600000  13/06/2021\n",
       "3         40      3465   3  22  24  37  39  42  50  69800000  09/06/2021\n",
       "4         40      3464   1   6  12  18  22  33  19  67100000  06/06/2021"
      ]
     },
     "execution_count": 5,
     "metadata": {},
     "output_type": "execute_result"
    }
   ],
   "source": [
    "data=pd.read_csv(r'C:\\Users\\jc2ma\\Downloads\\Melate.csv')\n",
    "data.head()"
   ]
  },
  {
   "cell_type": "code",
   "execution_count": 6,
   "metadata": {},
   "outputs": [
    {
     "data": {
      "text/html": [
       "<div>\n",
       "<style scoped>\n",
       "    .dataframe tbody tr th:only-of-type {\n",
       "        vertical-align: middle;\n",
       "    }\n",
       "\n",
       "    .dataframe tbody tr th {\n",
       "        vertical-align: top;\n",
       "    }\n",
       "\n",
       "    .dataframe thead th {\n",
       "        text-align: right;\n",
       "    }\n",
       "</style>\n",
       "<table border=\"1\" class=\"dataframe\">\n",
       "  <thead>\n",
       "    <tr style=\"text-align: right;\">\n",
       "      <th></th>\n",
       "      <th>NPRODUCTO</th>\n",
       "      <th>CONCURSO</th>\n",
       "      <th>R1</th>\n",
       "      <th>R2</th>\n",
       "      <th>R3</th>\n",
       "      <th>R4</th>\n",
       "      <th>R5</th>\n",
       "      <th>R6</th>\n",
       "      <th>R7</th>\n",
       "      <th>BOLSA</th>\n",
       "      <th>FECHA</th>\n",
       "    </tr>\n",
       "  </thead>\n",
       "  <tbody>\n",
       "    <tr>\n",
       "      <th>3463</th>\n",
       "      <td>40</td>\n",
       "      <td>5</td>\n",
       "      <td>4</td>\n",
       "      <td>10</td>\n",
       "      <td>13</td>\n",
       "      <td>18</td>\n",
       "      <td>33</td>\n",
       "      <td>39</td>\n",
       "      <td>11</td>\n",
       "      <td>0</td>\n",
       "      <td>16/09/1984</td>\n",
       "    </tr>\n",
       "    <tr>\n",
       "      <th>3464</th>\n",
       "      <td>40</td>\n",
       "      <td>4</td>\n",
       "      <td>8</td>\n",
       "      <td>12</td>\n",
       "      <td>15</td>\n",
       "      <td>18</td>\n",
       "      <td>20</td>\n",
       "      <td>34</td>\n",
       "      <td>37</td>\n",
       "      <td>0</td>\n",
       "      <td>09/09/1984</td>\n",
       "    </tr>\n",
       "    <tr>\n",
       "      <th>3465</th>\n",
       "      <td>40</td>\n",
       "      <td>3</td>\n",
       "      <td>16</td>\n",
       "      <td>18</td>\n",
       "      <td>19</td>\n",
       "      <td>21</td>\n",
       "      <td>29</td>\n",
       "      <td>32</td>\n",
       "      <td>27</td>\n",
       "      <td>0</td>\n",
       "      <td>02/09/1984</td>\n",
       "    </tr>\n",
       "    <tr>\n",
       "      <th>3466</th>\n",
       "      <td>40</td>\n",
       "      <td>2</td>\n",
       "      <td>5</td>\n",
       "      <td>6</td>\n",
       "      <td>24</td>\n",
       "      <td>30</td>\n",
       "      <td>34</td>\n",
       "      <td>38</td>\n",
       "      <td>32</td>\n",
       "      <td>0</td>\n",
       "      <td>26/08/1984</td>\n",
       "    </tr>\n",
       "    <tr>\n",
       "      <th>3467</th>\n",
       "      <td>40</td>\n",
       "      <td>1</td>\n",
       "      <td>1</td>\n",
       "      <td>4</td>\n",
       "      <td>7</td>\n",
       "      <td>11</td>\n",
       "      <td>19</td>\n",
       "      <td>30</td>\n",
       "      <td>36</td>\n",
       "      <td>0</td>\n",
       "      <td>19/08/1984</td>\n",
       "    </tr>\n",
       "  </tbody>\n",
       "</table>\n",
       "</div>"
      ],
      "text/plain": [
       "      NPRODUCTO  CONCURSO  R1  R2  R3  R4  R5  R6  R7  BOLSA       FECHA\n",
       "3463         40         5   4  10  13  18  33  39  11      0  16/09/1984\n",
       "3464         40         4   8  12  15  18  20  34  37      0  09/09/1984\n",
       "3465         40         3  16  18  19  21  29  32  27      0  02/09/1984\n",
       "3466         40         2   5   6  24  30  34  38  32      0  26/08/1984\n",
       "3467         40         1   1   4   7  11  19  30  36      0  19/08/1984"
      ]
     },
     "execution_count": 6,
     "metadata": {},
     "output_type": "execute_result"
    }
   ],
   "source": [
    "data.tail()"
   ]
  },
  {
   "cell_type": "code",
   "execution_count": 20,
   "metadata": {},
   "outputs": [
    {
     "data": {
      "text/html": [
       "<div>\n",
       "<style scoped>\n",
       "    .dataframe tbody tr th:only-of-type {\n",
       "        vertical-align: middle;\n",
       "    }\n",
       "\n",
       "    .dataframe tbody tr th {\n",
       "        vertical-align: top;\n",
       "    }\n",
       "\n",
       "    .dataframe thead th {\n",
       "        text-align: right;\n",
       "    }\n",
       "</style>\n",
       "<table border=\"1\" class=\"dataframe\">\n",
       "  <thead>\n",
       "    <tr style=\"text-align: right;\">\n",
       "      <th></th>\n",
       "      <th>NPRODUCTO</th>\n",
       "      <th>CONCURSO</th>\n",
       "      <th>R1</th>\n",
       "      <th>R2</th>\n",
       "      <th>R3</th>\n",
       "      <th>R4</th>\n",
       "      <th>R5</th>\n",
       "      <th>R6</th>\n",
       "      <th>R7</th>\n",
       "      <th>BOLSA</th>\n",
       "      <th>FECHA</th>\n",
       "    </tr>\n",
       "  </thead>\n",
       "  <tbody>\n",
       "    <tr>\n",
       "      <th>3467</th>\n",
       "      <td>40</td>\n",
       "      <td>1</td>\n",
       "      <td>1</td>\n",
       "      <td>4</td>\n",
       "      <td>7</td>\n",
       "      <td>11</td>\n",
       "      <td>19</td>\n",
       "      <td>30</td>\n",
       "      <td>36</td>\n",
       "      <td>0</td>\n",
       "      <td>19/08/1984</td>\n",
       "    </tr>\n",
       "    <tr>\n",
       "      <th>3466</th>\n",
       "      <td>40</td>\n",
       "      <td>2</td>\n",
       "      <td>5</td>\n",
       "      <td>6</td>\n",
       "      <td>24</td>\n",
       "      <td>30</td>\n",
       "      <td>34</td>\n",
       "      <td>38</td>\n",
       "      <td>32</td>\n",
       "      <td>0</td>\n",
       "      <td>26/08/1984</td>\n",
       "    </tr>\n",
       "    <tr>\n",
       "      <th>3465</th>\n",
       "      <td>40</td>\n",
       "      <td>3</td>\n",
       "      <td>16</td>\n",
       "      <td>18</td>\n",
       "      <td>19</td>\n",
       "      <td>21</td>\n",
       "      <td>29</td>\n",
       "      <td>32</td>\n",
       "      <td>27</td>\n",
       "      <td>0</td>\n",
       "      <td>02/09/1984</td>\n",
       "    </tr>\n",
       "    <tr>\n",
       "      <th>3464</th>\n",
       "      <td>40</td>\n",
       "      <td>4</td>\n",
       "      <td>8</td>\n",
       "      <td>12</td>\n",
       "      <td>15</td>\n",
       "      <td>18</td>\n",
       "      <td>20</td>\n",
       "      <td>34</td>\n",
       "      <td>37</td>\n",
       "      <td>0</td>\n",
       "      <td>09/09/1984</td>\n",
       "    </tr>\n",
       "    <tr>\n",
       "      <th>3463</th>\n",
       "      <td>40</td>\n",
       "      <td>5</td>\n",
       "      <td>4</td>\n",
       "      <td>10</td>\n",
       "      <td>13</td>\n",
       "      <td>18</td>\n",
       "      <td>33</td>\n",
       "      <td>39</td>\n",
       "      <td>11</td>\n",
       "      <td>0</td>\n",
       "      <td>16/09/1984</td>\n",
       "    </tr>\n",
       "  </tbody>\n",
       "</table>\n",
       "</div>"
      ],
      "text/plain": [
       "      NPRODUCTO  CONCURSO  R1  R2  R3  R4  R5  R6  R7  BOLSA       FECHA\n",
       "3467         40         1   1   4   7  11  19  30  36      0  19/08/1984\n",
       "3466         40         2   5   6  24  30  34  38  32      0  26/08/1984\n",
       "3465         40         3  16  18  19  21  29  32  27      0  02/09/1984\n",
       "3464         40         4   8  12  15  18  20  34  37      0  09/09/1984\n",
       "3463         40         5   4  10  13  18  33  39  11      0  16/09/1984"
      ]
     },
     "execution_count": 20,
     "metadata": {},
     "output_type": "execute_result"
    }
   ],
   "source": [
    "df= data.sort_values('CONCURSO', ascending=True)\n",
    "df.head()"
   ]
  },
  {
   "cell_type": "code",
   "execution_count": 23,
   "metadata": {},
   "outputs": [
    {
     "data": {
      "text/html": [
       "<div>\n",
       "<style scoped>\n",
       "    .dataframe tbody tr th:only-of-type {\n",
       "        vertical-align: middle;\n",
       "    }\n",
       "\n",
       "    .dataframe tbody tr th {\n",
       "        vertical-align: top;\n",
       "    }\n",
       "\n",
       "    .dataframe thead th {\n",
       "        text-align: right;\n",
       "    }\n",
       "</style>\n",
       "<table border=\"1\" class=\"dataframe\">\n",
       "  <thead>\n",
       "    <tr style=\"text-align: right;\">\n",
       "      <th></th>\n",
       "      <th>NPRODUCTO</th>\n",
       "      <th>R1</th>\n",
       "      <th>R2</th>\n",
       "      <th>R3</th>\n",
       "      <th>R4</th>\n",
       "      <th>R5</th>\n",
       "      <th>R6</th>\n",
       "      <th>R7</th>\n",
       "      <th>BOLSA</th>\n",
       "      <th>FECHA</th>\n",
       "    </tr>\n",
       "    <tr>\n",
       "      <th>CONCURSO</th>\n",
       "      <th></th>\n",
       "      <th></th>\n",
       "      <th></th>\n",
       "      <th></th>\n",
       "      <th></th>\n",
       "      <th></th>\n",
       "      <th></th>\n",
       "      <th></th>\n",
       "      <th></th>\n",
       "      <th></th>\n",
       "    </tr>\n",
       "  </thead>\n",
       "  <tbody>\n",
       "    <tr>\n",
       "      <th>1</th>\n",
       "      <td>40</td>\n",
       "      <td>1</td>\n",
       "      <td>4</td>\n",
       "      <td>7</td>\n",
       "      <td>11</td>\n",
       "      <td>19</td>\n",
       "      <td>30</td>\n",
       "      <td>36</td>\n",
       "      <td>0</td>\n",
       "      <td>19/08/1984</td>\n",
       "    </tr>\n",
       "    <tr>\n",
       "      <th>2</th>\n",
       "      <td>40</td>\n",
       "      <td>5</td>\n",
       "      <td>6</td>\n",
       "      <td>24</td>\n",
       "      <td>30</td>\n",
       "      <td>34</td>\n",
       "      <td>38</td>\n",
       "      <td>32</td>\n",
       "      <td>0</td>\n",
       "      <td>26/08/1984</td>\n",
       "    </tr>\n",
       "    <tr>\n",
       "      <th>3</th>\n",
       "      <td>40</td>\n",
       "      <td>16</td>\n",
       "      <td>18</td>\n",
       "      <td>19</td>\n",
       "      <td>21</td>\n",
       "      <td>29</td>\n",
       "      <td>32</td>\n",
       "      <td>27</td>\n",
       "      <td>0</td>\n",
       "      <td>02/09/1984</td>\n",
       "    </tr>\n",
       "    <tr>\n",
       "      <th>4</th>\n",
       "      <td>40</td>\n",
       "      <td>8</td>\n",
       "      <td>12</td>\n",
       "      <td>15</td>\n",
       "      <td>18</td>\n",
       "      <td>20</td>\n",
       "      <td>34</td>\n",
       "      <td>37</td>\n",
       "      <td>0</td>\n",
       "      <td>09/09/1984</td>\n",
       "    </tr>\n",
       "    <tr>\n",
       "      <th>5</th>\n",
       "      <td>40</td>\n",
       "      <td>4</td>\n",
       "      <td>10</td>\n",
       "      <td>13</td>\n",
       "      <td>18</td>\n",
       "      <td>33</td>\n",
       "      <td>39</td>\n",
       "      <td>11</td>\n",
       "      <td>0</td>\n",
       "      <td>16/09/1984</td>\n",
       "    </tr>\n",
       "  </tbody>\n",
       "</table>\n",
       "</div>"
      ],
      "text/plain": [
       "          NPRODUCTO  R1  R2  R3  R4  R5  R6  R7  BOLSA       FECHA\n",
       "CONCURSO                                                          \n",
       "1                40   1   4   7  11  19  30  36      0  19/08/1984\n",
       "2                40   5   6  24  30  34  38  32      0  26/08/1984\n",
       "3                40  16  18  19  21  29  32  27      0  02/09/1984\n",
       "4                40   8  12  15  18  20  34  37      0  09/09/1984\n",
       "5                40   4  10  13  18  33  39  11      0  16/09/1984"
      ]
     },
     "execution_count": 23,
     "metadata": {},
     "output_type": "execute_result"
    }
   ],
   "source": [
    "\n",
    "df.set_index('CONCURSO',inplace=True)\n",
    "df.head()"
   ]
  },
  {
   "cell_type": "code",
   "execution_count": 24,
   "metadata": {},
   "outputs": [
    {
     "data": {
      "text/html": [
       "<div>\n",
       "<style scoped>\n",
       "    .dataframe tbody tr th:only-of-type {\n",
       "        vertical-align: middle;\n",
       "    }\n",
       "\n",
       "    .dataframe tbody tr th {\n",
       "        vertical-align: top;\n",
       "    }\n",
       "\n",
       "    .dataframe thead th {\n",
       "        text-align: right;\n",
       "    }\n",
       "</style>\n",
       "<table border=\"1\" class=\"dataframe\">\n",
       "  <thead>\n",
       "    <tr style=\"text-align: right;\">\n",
       "      <th></th>\n",
       "      <th>NPRODUCTO</th>\n",
       "      <th>R1</th>\n",
       "      <th>R2</th>\n",
       "      <th>R3</th>\n",
       "      <th>R4</th>\n",
       "      <th>R5</th>\n",
       "      <th>R6</th>\n",
       "      <th>R7</th>\n",
       "      <th>BOLSA</th>\n",
       "      <th>FECHA</th>\n",
       "    </tr>\n",
       "    <tr>\n",
       "      <th>CONCURSO</th>\n",
       "      <th></th>\n",
       "      <th></th>\n",
       "      <th></th>\n",
       "      <th></th>\n",
       "      <th></th>\n",
       "      <th></th>\n",
       "      <th></th>\n",
       "      <th></th>\n",
       "      <th></th>\n",
       "      <th></th>\n",
       "    </tr>\n",
       "  </thead>\n",
       "  <tbody>\n",
       "    <tr>\n",
       "      <th>3464</th>\n",
       "      <td>40</td>\n",
       "      <td>1</td>\n",
       "      <td>6</td>\n",
       "      <td>12</td>\n",
       "      <td>18</td>\n",
       "      <td>22</td>\n",
       "      <td>33</td>\n",
       "      <td>19</td>\n",
       "      <td>67100000</td>\n",
       "      <td>06/06/2021</td>\n",
       "    </tr>\n",
       "    <tr>\n",
       "      <th>3465</th>\n",
       "      <td>40</td>\n",
       "      <td>3</td>\n",
       "      <td>22</td>\n",
       "      <td>24</td>\n",
       "      <td>37</td>\n",
       "      <td>39</td>\n",
       "      <td>42</td>\n",
       "      <td>50</td>\n",
       "      <td>69800000</td>\n",
       "      <td>09/06/2021</td>\n",
       "    </tr>\n",
       "    <tr>\n",
       "      <th>3466</th>\n",
       "      <td>40</td>\n",
       "      <td>10</td>\n",
       "      <td>20</td>\n",
       "      <td>23</td>\n",
       "      <td>24</td>\n",
       "      <td>40</td>\n",
       "      <td>49</td>\n",
       "      <td>44</td>\n",
       "      <td>72600000</td>\n",
       "      <td>13/06/2021</td>\n",
       "    </tr>\n",
       "    <tr>\n",
       "      <th>3467</th>\n",
       "      <td>40</td>\n",
       "      <td>3</td>\n",
       "      <td>7</td>\n",
       "      <td>14</td>\n",
       "      <td>18</td>\n",
       "      <td>33</td>\n",
       "      <td>44</td>\n",
       "      <td>29</td>\n",
       "      <td>76500000</td>\n",
       "      <td>16/06/2021</td>\n",
       "    </tr>\n",
       "    <tr>\n",
       "      <th>3468</th>\n",
       "      <td>40</td>\n",
       "      <td>26</td>\n",
       "      <td>32</td>\n",
       "      <td>38</td>\n",
       "      <td>41</td>\n",
       "      <td>55</td>\n",
       "      <td>56</td>\n",
       "      <td>42</td>\n",
       "      <td>79000000</td>\n",
       "      <td>20/06/2021</td>\n",
       "    </tr>\n",
       "  </tbody>\n",
       "</table>\n",
       "</div>"
      ],
      "text/plain": [
       "          NPRODUCTO  R1  R2  R3  R4  R5  R6  R7     BOLSA       FECHA\n",
       "CONCURSO                                                             \n",
       "3464             40   1   6  12  18  22  33  19  67100000  06/06/2021\n",
       "3465             40   3  22  24  37  39  42  50  69800000  09/06/2021\n",
       "3466             40  10  20  23  24  40  49  44  72600000  13/06/2021\n",
       "3467             40   3   7  14  18  33  44  29  76500000  16/06/2021\n",
       "3468             40  26  32  38  41  55  56  42  79000000  20/06/2021"
      ]
     },
     "execution_count": 24,
     "metadata": {},
     "output_type": "execute_result"
    }
   ],
   "source": [
    "df.tail()"
   ]
  },
  {
   "cell_type": "code",
   "execution_count": 41,
   "metadata": {},
   "outputs": [
    {
     "data": {
      "text/plain": [
       "NPRODUCTO     int64\n",
       "R1            int64\n",
       "R2            int64\n",
       "R3            int64\n",
       "R4            int64\n",
       "R5            int64\n",
       "R6            int64\n",
       "R7            int64\n",
       "BOLSA         int64\n",
       "FECHA        object\n",
       "dtype: object"
      ]
     },
     "execution_count": 41,
     "metadata": {},
     "output_type": "execute_result"
    }
   ],
   "source": [
    "df['FECHA'].dtypes()"
   ]
  },
  {
   "cell_type": "code",
   "execution_count": 80,
   "metadata": {},
   "outputs": [
    {
     "data": {
      "image/png": "[encoded data removed]",
      "text/plain": [
       "<Figure size 432x288 with 1 Axes>"
      ]
     },
     "metadata": {
      "needs_background": "light"
     },
     "output_type": "display_data"
    },
    {
     "data": {
      "text/plain": [
       "1     442\n",
       "2     395\n",
       "3     337\n",
       "4     297\n",
       "5     279\n",
       "7     232\n",
       "6     227\n",
       "9     170\n",
       "8     169\n",
       "10    137\n",
       "11    115\n",
       "12    105\n",
       "13    103\n",
       "14     67\n",
       "15     66\n",
       "16     66\n",
       "17     41\n",
       "18     39\n",
       "19     26\n",
       "20     24\n",
       "24     23\n",
       "21     21\n",
       "22     20\n",
       "23     16\n",
       "25     10\n",
       "26      9\n",
       "28      6\n",
       "31      5\n",
       "27      5\n",
       "35      4\n",
       "29      4\n",
       "37      3\n",
       "30      2\n",
       "33      1\n",
       "34      1\n",
       "42      1\n",
       "Name: R1, dtype: int64"
      ]
     },
     "execution_count": 80,
     "metadata": {},
     "output_type": "execute_result"
    }
   ],
   "source": [
    "plt.hist(df['R1'],bins=45,edgecolor='yellow')\n",
    "plt.title('R1')\n",
    "plt.show()\n",
    "df['R1'].value_counts()"
   ]
  },
  {
   "cell_type": "code",
   "execution_count": 94,
   "metadata": {},
   "outputs": [
    {
     "name": "stdout",
     "output_type": "stream",
     "text": [
      "R1 mean  7.083044982698962\n",
      "R1 std  5.876630005914578\n"
     ]
    }
   ],
   "source": [
    "print(\"R1 mean \",df['R1'].mean())\n",
    "print(\"R1 std \",df['R1'].std())"
   ]
  },
  {
   "cell_type": "code",
   "execution_count": 84,
   "metadata": {},
   "outputs": [
    {
     "data": {
      "image/png": "[encoded data removed]",
      "text/plain": [
       "<Figure size 432x288 with 1 Axes>"
      ]
     },
     "metadata": {
      "needs_background": "light"
     },
     "output_type": "display_data"
    },
    {
     "data": {
      "text/plain": [
       "12    198\n",
       "8     198\n",
       "11    188\n",
       "13    178\n",
       "10    172\n",
       "15    171\n",
       "6     168\n",
       "7     166\n",
       "9     166\n",
       "14    161\n",
       "5     159\n",
       "16    157\n",
       "17    136\n",
       "18    132\n",
       "19    128\n",
       "21    105\n",
       "20    104\n",
       "4     104\n",
       "3      97\n",
       "22     81\n",
       "23     73\n",
       "25     57\n",
       "24     52\n",
       "27     44\n",
       "26     43\n",
       "2      42\n",
       "28     35\n",
       "29     27\n",
       "30     21\n",
       "31     20\n",
       "32     19\n",
       "35     14\n",
       "33     14\n",
       "36     10\n",
       "34      8\n",
       "39      5\n",
       "38      4\n",
       "43      3\n",
       "37      3\n",
       "44      2\n",
       "40      1\n",
       "42      1\n",
       "45      1\n",
       "Name: R2, dtype: int64"
      ]
     },
     "execution_count": 84,
     "metadata": {},
     "output_type": "execute_result"
    }
   ],
   "source": [
    "plt.hist(df['R2'],bins=56,edgecolor='yellow')\n",
    "plt.title('R2')\n",
    "plt.show()\n",
    "df['R2'].value_counts()"
   ]
  },
  {
   "cell_type": "code",
   "execution_count": 86,
   "metadata": {},
   "outputs": [
    {
     "data": {
      "image/png": "[encoded data removed]",
      "text/plain": [
       "<Figure size 432x288 with 1 Axes>"
      ]
     },
     "metadata": {
      "needs_background": "light"
     },
     "output_type": "display_data"
    },
    {
     "data": {
      "text/plain": [
       "17    163\n",
       "20    163\n",
       "18    159\n",
       "19    154\n",
       "14    152\n",
       "24    145\n",
       "23    142\n",
       "22    140\n",
       "16    139\n",
       "15    139\n",
       "21    138\n",
       "25    136\n",
       "13    131\n",
       "12    126\n",
       "26    119\n",
       "27    111\n",
       "11    106\n",
       "29    100\n",
       "28     86\n",
       "30     84\n",
       "10     83\n",
       "31     79\n",
       "32     74\n",
       "33     63\n",
       "9      62\n",
       "8      58\n",
       "7      44\n",
       "34     40\n",
       "36     39\n",
       "35     38\n",
       "37     34\n",
       "6      30\n",
       "38     25\n",
       "40     24\n",
       "39     17\n",
       "4      16\n",
       "43     16\n",
       "5      16\n",
       "42     15\n",
       "41     13\n",
       "45     13\n",
       "44     11\n",
       "46      5\n",
       "48      4\n",
       "3       4\n",
       "47      4\n",
       "49      3\n",
       "51      2\n",
       "50      2\n",
       "52      1\n",
       "Name: R3, dtype: int64"
      ]
     },
     "execution_count": 86,
     "metadata": {},
     "output_type": "execute_result"
    }
   ],
   "source": [
    "plt.hist(df['R3'],bins=50,edgecolor='yellow')\n",
    "plt.title('R3')\n",
    "plt.show()\n",
    "df['R3'].value_counts()"
   ]
  },
  {
   "cell_type": "code",
   "execution_count": 88,
   "metadata": {},
   "outputs": [
    {
     "data": {
      "image/png": "[encoded data removed]",
      "text/plain": [
       "<Figure size 432x288 with 1 Axes>"
      ]
     },
     "metadata": {
      "needs_background": "light"
     },
     "output_type": "display_data"
    },
    {
     "data": {
      "text/plain": [
       "25    161\n",
       "28    159\n",
       "27    149\n",
       "32    144\n",
       "24    144\n",
       "34    138\n",
       "29    138\n",
       "30    136\n",
       "26    132\n",
       "33    129\n",
       "31    127\n",
       "36    120\n",
       "23    118\n",
       "22    115\n",
       "35    112\n",
       "20    108\n",
       "21    108\n",
       "18     97\n",
       "19     92\n",
       "37     83\n",
       "17     82\n",
       "38     80\n",
       "39     74\n",
       "16     66\n",
       "40     62\n",
       "15     57\n",
       "42     56\n",
       "41     53\n",
       "14     52\n",
       "13     42\n",
       "43     38\n",
       "44     35\n",
       "45     29\n",
       "46     28\n",
       "47     27\n",
       "12     23\n",
       "11     20\n",
       "50     19\n",
       "48     19\n",
       "10     18\n",
       "9      17\n",
       "49     16\n",
       "8      12\n",
       "52     10\n",
       "53      6\n",
       "51      6\n",
       "7       3\n",
       "6       3\n",
       "54      2\n",
       "5       2\n",
       "4       1\n",
       "Name: R4, dtype: int64"
      ]
     },
     "execution_count": 88,
     "metadata": {},
     "output_type": "execute_result"
    }
   ],
   "source": [
    "plt.hist(df['R4'],bins=50,edgecolor='yellow')\n",
    "plt.title('R4')\n",
    "plt.show()\n",
    "df['R4'].value_counts()"
   ]
  },
  {
   "cell_type": "code",
   "execution_count": 85,
   "metadata": {},
   "outputs": [
    {
     "data": {
      "image/png": "[encoded data removed]",
      "text/plain": [
       "<Figure size 432x288 with 1 Axes>"
      ]
     },
     "metadata": {
      "needs_background": "light"
     },
     "output_type": "display_data"
    },
    {
     "data": {
      "text/plain": [
       "37    184\n",
       "32    157\n",
       "30    153\n",
       "34    152\n",
       "38    151\n",
       "33    150\n",
       "36    145\n",
       "35    144\n",
       "41    137\n",
       "40    132\n",
       "31    130\n",
       "39    130\n",
       "28    119\n",
       "29    115\n",
       "43    112\n",
       "42    112\n",
       "27     86\n",
       "44     85\n",
       "46     77\n",
       "45     75\n",
       "26     74\n",
       "25     68\n",
       "47     66\n",
       "49     65\n",
       "48     62\n",
       "50     60\n",
       "24     58\n",
       "22     51\n",
       "51     49\n",
       "20     47\n",
       "23     44\n",
       "52     42\n",
       "21     38\n",
       "54     33\n",
       "19     30\n",
       "53     24\n",
       "18     19\n",
       "55     18\n",
       "17     17\n",
       "15     15\n",
       "16     12\n",
       "14     11\n",
       "12      7\n",
       "13      5\n",
       "10      4\n",
       "11      3\n",
       "Name: R5, dtype: int64"
      ]
     },
     "execution_count": 85,
     "metadata": {},
     "output_type": "execute_result"
    }
   ],
   "source": [
    "plt.hist(df['R5'],bins=49,edgecolor='yellow')\n",
    "plt.title('R5')\n",
    "plt.show()\n",
    "df['R5'].value_counts()"
   ]
  },
  {
   "cell_type": "code",
   "execution_count": 91,
   "metadata": {},
   "outputs": [
    {
     "data": {
      "image/png": "[encoded data removed]",
      "text/plain": [
       "<Figure size 432x288 with 1 Axes>"
      ]
     },
     "metadata": {
      "needs_background": "light"
     },
     "output_type": "display_data"
    },
    {
     "data": {
      "text/plain": [
       "44    212\n",
       "39    202\n",
       "43    191\n",
       "42    167\n",
       "56    165\n",
       "38    162\n",
       "37    142\n",
       "40    140\n",
       "55    136\n",
       "41    135\n",
       "36    132\n",
       "54    128\n",
       "47    124\n",
       "52    113\n",
       "35    112\n",
       "50    109\n",
       "51    106\n",
       "46    100\n",
       "53     99\n",
       "49     98\n",
       "45     96\n",
       "48     93\n",
       "33     90\n",
       "34     73\n",
       "32     64\n",
       "31     48\n",
       "29     44\n",
       "30     44\n",
       "28     25\n",
       "27     23\n",
       "26     23\n",
       "24     12\n",
       "25     11\n",
       "23     11\n",
       "21     11\n",
       "22     11\n",
       "19      4\n",
       "20      3\n",
       "16      3\n",
       "17      2\n",
       "14      2\n",
       "15      1\n",
       "18      1\n",
       "Name: R6, dtype: int64"
      ]
     },
     "execution_count": 91,
     "metadata": {},
     "output_type": "execute_result"
    }
   ],
   "source": [
    "plt.hist(df['R6'],bins=50,edgecolor='yellow')\n",
    "plt.title('R6')\n",
    "plt.show()\n",
    "df['R6'].value_counts()"
   ]
  },
  {
   "cell_type": "code",
   "execution_count": 92,
   "metadata": {},
   "outputs": [
    {
     "data": {
      "image/png": "[encoded data removed]",
      "text/plain": [
       "<Figure size 432x288 with 1 Axes>"
      ]
     },
     "metadata": {
      "needs_background": "light"
     },
     "output_type": "display_data"
    },
    {
     "data": {
      "text/plain": [
       "9     88\n",
       "11    88\n",
       "26    86\n",
       "28    86\n",
       "37    83\n",
       "34    82\n",
       "32    82\n",
       "19    78\n",
       "29    78\n",
       "6     77\n",
       "31    75\n",
       "40    75\n",
       "16    75\n",
       "39    74\n",
       "21    74\n",
       "12    74\n",
       "13    74\n",
       "27    72\n",
       "25    72\n",
       "30    71\n",
       "20    71\n",
       "4     71\n",
       "2     71\n",
       "1     71\n",
       "22    70\n",
       "36    70\n",
       "38    69\n",
       "33    69\n",
       "15    68\n",
       "10    67\n",
       "5     67\n",
       "3     67\n",
       "18    65\n",
       "7     64\n",
       "44    63\n",
       "17    63\n",
       "24    61\n",
       "23    61\n",
       "43    60\n",
       "8     59\n",
       "14    59\n",
       "45    50\n",
       "42    46\n",
       "35    44\n",
       "41    43\n",
       "49    42\n",
       "51    40\n",
       "47    34\n",
       "53    34\n",
       "46    33\n",
       "48    33\n",
       "54    27\n",
       "50    27\n",
       "52    26\n",
       "56    21\n",
       "55    18\n",
       "Name: R7, dtype: int64"
      ]
     },
     "execution_count": 92,
     "metadata": {},
     "output_type": "execute_result"
    }
   ],
   "source": [
    "plt.hist(df['R7'],bins=50,edgecolor='yellow')\n",
    "plt.title('R7')\n",
    "plt.show()\n",
    "df['R7'].value_counts()"
   ]
  },
  {
   "cell_type": "code",
   "execution_count": 43,
   "metadata": {},
   "outputs": [
    {
     "data": {
      "text/html": [
       "<div>\n",
       "<style scoped>\n",
       "    .dataframe tbody tr th:only-of-type {\n",
       "        vertical-align: middle;\n",
       "    }\n",
       "\n",
       "    .dataframe tbody tr th {\n",
       "        vertical-align: top;\n",
       "    }\n",
       "\n",
       "    .dataframe thead th {\n",
       "        text-align: right;\n",
       "    }\n",
       "</style>\n",
       "<table border=\"1\" class=\"dataframe\">\n",
       "  <thead>\n",
       "    <tr style=\"text-align: right;\">\n",
       "      <th></th>\n",
       "      <th>NPRODUCTO</th>\n",
       "      <th>R1</th>\n",
       "      <th>R2</th>\n",
       "      <th>R3</th>\n",
       "      <th>R4</th>\n",
       "      <th>R5</th>\n",
       "      <th>R6</th>\n",
       "      <th>R7</th>\n",
       "      <th>BOLSA</th>\n",
       "      <th>FECHA</th>\n",
       "    </tr>\n",
       "    <tr>\n",
       "      <th>CONCURSO</th>\n",
       "      <th></th>\n",
       "      <th></th>\n",
       "      <th></th>\n",
       "      <th></th>\n",
       "      <th></th>\n",
       "      <th></th>\n",
       "      <th></th>\n",
       "      <th></th>\n",
       "      <th></th>\n",
       "      <th></th>\n",
       "    </tr>\n",
       "  </thead>\n",
       "  <tbody>\n",
       "    <tr>\n",
       "      <th>1</th>\n",
       "      <td>40</td>\n",
       "      <td>1</td>\n",
       "      <td>4</td>\n",
       "      <td>7</td>\n",
       "      <td>11</td>\n",
       "      <td>19</td>\n",
       "      <td>30</td>\n",
       "      <td>36</td>\n",
       "      <td>0</td>\n",
       "      <td>1984-08-19</td>\n",
       "    </tr>\n",
       "    <tr>\n",
       "      <th>2</th>\n",
       "      <td>40</td>\n",
       "      <td>5</td>\n",
       "      <td>6</td>\n",
       "      <td>24</td>\n",
       "      <td>30</td>\n",
       "      <td>34</td>\n",
       "      <td>38</td>\n",
       "      <td>32</td>\n",
       "      <td>0</td>\n",
       "      <td>1984-08-26</td>\n",
       "    </tr>\n",
       "    <tr>\n",
       "      <th>3</th>\n",
       "      <td>40</td>\n",
       "      <td>16</td>\n",
       "      <td>18</td>\n",
       "      <td>19</td>\n",
       "      <td>21</td>\n",
       "      <td>29</td>\n",
       "      <td>32</td>\n",
       "      <td>27</td>\n",
       "      <td>0</td>\n",
       "      <td>1984-02-09</td>\n",
       "    </tr>\n",
       "    <tr>\n",
       "      <th>4</th>\n",
       "      <td>40</td>\n",
       "      <td>8</td>\n",
       "      <td>12</td>\n",
       "      <td>15</td>\n",
       "      <td>18</td>\n",
       "      <td>20</td>\n",
       "      <td>34</td>\n",
       "      <td>37</td>\n",
       "      <td>0</td>\n",
       "      <td>1984-09-09</td>\n",
       "    </tr>\n",
       "    <tr>\n",
       "      <th>5</th>\n",
       "      <td>40</td>\n",
       "      <td>4</td>\n",
       "      <td>10</td>\n",
       "      <td>13</td>\n",
       "      <td>18</td>\n",
       "      <td>33</td>\n",
       "      <td>39</td>\n",
       "      <td>11</td>\n",
       "      <td>0</td>\n",
       "      <td>1984-09-16</td>\n",
       "    </tr>\n",
       "    <tr>\n",
       "      <th>...</th>\n",
       "      <td>...</td>\n",
       "      <td>...</td>\n",
       "      <td>...</td>\n",
       "      <td>...</td>\n",
       "      <td>...</td>\n",
       "      <td>...</td>\n",
       "      <td>...</td>\n",
       "      <td>...</td>\n",
       "      <td>...</td>\n",
       "      <td>...</td>\n",
       "    </tr>\n",
       "    <tr>\n",
       "      <th>3464</th>\n",
       "      <td>40</td>\n",
       "      <td>1</td>\n",
       "      <td>6</td>\n",
       "      <td>12</td>\n",
       "      <td>18</td>\n",
       "      <td>22</td>\n",
       "      <td>33</td>\n",
       "      <td>19</td>\n",
       "      <td>67100000</td>\n",
       "      <td>2021-06-06</td>\n",
       "    </tr>\n",
       "    <tr>\n",
       "      <th>3465</th>\n",
       "      <td>40</td>\n",
       "      <td>3</td>\n",
       "      <td>22</td>\n",
       "      <td>24</td>\n",
       "      <td>37</td>\n",
       "      <td>39</td>\n",
       "      <td>42</td>\n",
       "      <td>50</td>\n",
       "      <td>69800000</td>\n",
       "      <td>2021-09-06</td>\n",
       "    </tr>\n",
       "    <tr>\n",
       "      <th>3466</th>\n",
       "      <td>40</td>\n",
       "      <td>10</td>\n",
       "      <td>20</td>\n",
       "      <td>23</td>\n",
       "      <td>24</td>\n",
       "      <td>40</td>\n",
       "      <td>49</td>\n",
       "      <td>44</td>\n",
       "      <td>72600000</td>\n",
       "      <td>2021-06-13</td>\n",
       "    </tr>\n",
       "    <tr>\n",
       "      <th>3467</th>\n",
       "      <td>40</td>\n",
       "      <td>3</td>\n",
       "      <td>7</td>\n",
       "      <td>14</td>\n",
       "      <td>18</td>\n",
       "      <td>33</td>\n",
       "      <td>44</td>\n",
       "      <td>29</td>\n",
       "      <td>76500000</td>\n",
       "      <td>2021-06-16</td>\n",
       "    </tr>\n",
       "    <tr>\n",
       "      <th>3468</th>\n",
       "      <td>40</td>\n",
       "      <td>26</td>\n",
       "      <td>32</td>\n",
       "      <td>38</td>\n",
       "      <td>41</td>\n",
       "      <td>55</td>\n",
       "      <td>56</td>\n",
       "      <td>42</td>\n",
       "      <td>79000000</td>\n",
       "      <td>2021-06-20</td>\n",
       "    </tr>\n",
       "  </tbody>\n",
       "</table>\n",
       "<p>3468 rows × 10 columns</p>\n",
       "</div>"
      ],
      "text/plain": [
       "          NPRODUCTO  R1  R2  R3  R4  R5  R6  R7     BOLSA      FECHA\n",
       "CONCURSO                                                            \n",
       "1                40   1   4   7  11  19  30  36         0 1984-08-19\n",
       "2                40   5   6  24  30  34  38  32         0 1984-08-26\n",
       "3                40  16  18  19  21  29  32  27         0 1984-02-09\n",
       "4                40   8  12  15  18  20  34  37         0 1984-09-09\n",
       "5                40   4  10  13  18  33  39  11         0 1984-09-16\n",
       "...             ...  ..  ..  ..  ..  ..  ..  ..       ...        ...\n",
       "3464             40   1   6  12  18  22  33  19  67100000 2021-06-06\n",
       "3465             40   3  22  24  37  39  42  50  69800000 2021-09-06\n",
       "3466             40  10  20  23  24  40  49  44  72600000 2021-06-13\n",
       "3467             40   3   7  14  18  33  44  29  76500000 2021-06-16\n",
       "3468             40  26  32  38  41  55  56  42  79000000 2021-06-20\n",
       "\n",
       "[3468 rows x 10 columns]"
      ]
     },
     "execution_count": 43,
     "metadata": {},
     "output_type": "execute_result"
    }
   ],
   "source": [
    "\n",
    "df['FECHA']= pd.to_datetime(df['FECHA'])\n",
    "df"
   ]
  },
  {
   "cell_type": "code",
   "execution_count": 48,
   "metadata": {},
   "outputs": [
    {
     "ename": "ValueError",
     "evalue": "either both or neither of x and y should be given",
     "output_type": "error",
     "traceback": [
      "\u001b[1;31m---------------------------------------------------------------------------\u001b[0m",
      "\u001b[1;31mValueError\u001b[0m                                Traceback (most recent call last)",
      "\u001b[1;32m<ipython-input-48-9ecd76e8d512>\u001b[0m in \u001b[0;36m<module>\u001b[1;34m\u001b[0m\n\u001b[0;32m      1\u001b[0m \u001b[1;32mimport\u001b[0m \u001b[0mnumpy\u001b[0m \u001b[1;32mas\u001b[0m \u001b[0mnp\u001b[0m\u001b[1;33m\u001b[0m\u001b[1;33m\u001b[0m\u001b[0m\n\u001b[1;32m----> 2\u001b[1;33m \u001b[0mdf\u001b[0m\u001b[1;33m[\u001b[0m\u001b[1;34m'BOLSA_ACTUAL'\u001b[0m\u001b[1;33m]\u001b[0m\u001b[1;33m=\u001b[0m\u001b[0mnp\u001b[0m\u001b[1;33m.\u001b[0m\u001b[0mwhere\u001b[0m\u001b[1;33m(\u001b[0m\u001b[0mdf\u001b[0m\u001b[1;33m[\u001b[0m\u001b[1;34m'FECHA'\u001b[0m\u001b[1;33m]\u001b[0m\u001b[1;33m.\u001b[0m\u001b[0mdt\u001b[0m\u001b[1;33m.\u001b[0m\u001b[0myear\u001b[0m\u001b[1;33m>\u001b[0m\u001b[1;36m1993\u001b[0m\u001b[1;33m,\u001b[0m\u001b[0mdf\u001b[0m\u001b[1;33m[\u001b[0m\u001b[1;34m'BOLSA'\u001b[0m\u001b[1;33m]\u001b[0m\u001b[1;33m/\u001b[0m\u001b[1;36m1000\u001b[0m\u001b[1;33m)\u001b[0m\u001b[1;33m\u001b[0m\u001b[1;33m\u001b[0m\u001b[0m\n\u001b[0m\u001b[0;32m      3\u001b[0m \u001b[0mdf\u001b[0m\u001b[1;33m\u001b[0m\u001b[1;33m\u001b[0m\u001b[0m\n",
      "\u001b[1;32m<__array_function__ internals>\u001b[0m in \u001b[0;36mwhere\u001b[1;34m(*args, **kwargs)\u001b[0m\n",
      "\u001b[1;31mValueError\u001b[0m: either both or neither of x and y should be given"
     ]
    }
   ],
   "source": [
    "import numpy as np\n",
    "df['BOLSA_ACTUAL']=np.where(df['FECHA'].dt.year>1993,df['BOLSA']/1000)\n",
    "df"
   ]
  },
  {
   "cell_type": "code",
   "execution_count": 95,
   "metadata": {},
   "outputs": [
    {
     "data": {
      "image/png": "[encoded data removed]",
      "text/plain": [
       "<Figure size 432x288 with 1 Axes>"
      ]
     },
     "metadata": {
      "needs_background": "light"
     },
     "output_type": "display_data"
    }
   ],
   "source": [
    "import seaborn as sn\n",
    "r1=sn.boxplot(x=df['R1'])"
   ]
  },
  {
   "cell_type": "code",
   "execution_count": 97,
   "metadata": {},
   "outputs": [
    {
     "data": {
      "image/png": "[encoded data removed]",
      "text/plain": [
       "<Figure size 432x288 with 1 Axes>"
      ]
     },
     "metadata": {
      "needs_background": "light"
     },
     "output_type": "display_data"
    }
   ],
   "source": [
    "r1=sn.boxplot(x=df['R2'])\n"
   ]
  },
  {
   "cell_type": "code",
   "execution_count": 98,
   "metadata": {},
   "outputs": [
    {
     "data": {
      "image/png": "[encoded data removed]",
      "text/plain": [
       "<Figure size 432x288 with 1 Axes>"
      ]
     },
     "metadata": {
      "needs_background": "light"
     },
     "output_type": "display_data"
    }
   ],
   "source": [
    "r1=sn.boxplot(x=df['R3'])\n"
   ]
  },
  {
   "cell_type": "code",
   "execution_count": 99,
   "metadata": {},
   "outputs": [
    {
     "data": {
      "image/png": "[encoded data removed]",
      "text/plain": [
       "<Figure size 432x288 with 1 Axes>"
      ]
     },
     "metadata": {
      "needs_background": "light"
     },
     "output_type": "display_data"
    }
   ],
   "source": [
    "r1=sn.boxplot(x=df['R4'])\n"
   ]
  },
  {
   "cell_type": "code",
   "execution_count": 100,
   "metadata": {},
   "outputs": [
    {
     "data": {
      "image/png": "[encoded data removed]",
      "text/plain": [
       "<Figure size 432x288 with 1 Axes>"
      ]
     },
     "metadata": {
      "needs_background": "light"
     },
     "output_type": "display_data"
    }
   ],
   "source": [
    "r1=sn.boxplot(x=df['R5'])\n"
   ]
  },
  {
   "cell_type": "code",
   "execution_count": 101,
   "metadata": {},
   "outputs": [
    {
     "data": {
      "image/png": "[encoded data removed]",
      "text/plain": [
       "<Figure size 432x288 with 1 Axes>"
      ]
     },
     "metadata": {
      "needs_background": "light"
     },
     "output_type": "display_data"
    }
   ],
   "source": [
    "r1=sn.boxplot(x=df['R6'])\n"
   ]
  },
  {
   "cell_type": "code",
   "execution_count": 102,
   "metadata": {},
   "outputs": [
    {
     "data": {
      "image/png": "[encoded data removed]",
      "text/plain": [
       "<Figure size 432x288 with 1 Axes>"
      ]
     },
     "metadata": {
      "needs_background": "light"
     },
     "output_type": "display_data"
    }
   ],
   "source": [
    "r1=sn.boxplot(x=df['R7'])"
   ]
  },
  {
   "cell_type": "code",
   "execution_count": null,
   "metadata": {},
   "outputs": [],
   "source": []
  }
 ],
 "metadata": {
  "kernelspec": {
   "display_name": "Python 3",
   "language": "python",
   "name": "python3"
  },
  "language_info": {
   "codemirror_mode": {
    "name": "ipython",
    "version": 3
   },
   "file_extension": ".py",
   "mimetype": "text/x-python",
   "name": "python",
   "nbconvert_exporter": "python",
   "pygments_lexer": "ipython3",
   "version": "3.7.7"
  }
 },
 "nbformat": 4,
 "nbformat_minor": 4
}
